{
  "nbformat": 4,
  "nbformat_minor": 0,
  "metadata": {
    "colab": {
      "name": "TD-IDF.ipynb",
      "provenance": []
    },
    "kernelspec": {
      "name": "python3",
      "display_name": "Python 3"
    },
    "language_info": {
      "name": "python"
    }
  },
  "cells": [
    {
      "cell_type": "code",
      "metadata": {
        "id": "vVVevipxlBf-"
      },
      "source": [
        "text=[\"kolkata big city india trade\",\"mumbai financial capital india\",\"delhi capital india\",\"kolkata capital colonial times\",\n",
        "     \"bangalore tech hub india software\",\"mumbai hub trade commerce stock exchange\",\"kolkata victoria memorial\",\"delhi india gate\",\n",
        "      \"mumbai gate way india trade business\",\"delhi red fort india\",\"kolkata metro oldest india\",\n",
        "      \"delhi metro largest metro network india\"]"
      ],
      "execution_count": 1,
      "outputs": []
    },
    {
      "cell_type": "code",
      "metadata": {
        "id": "29ZUQsQhnDvN"
      },
      "source": [
        "import pandas as pd\n",
        "import numpy as np \n",
        "from sklearn.feature_extraction.text import CountVectorizer\n",
        "from sklearn.feature_extraction.text import TfidfTransformer\n",
        "from sklearn.feature_extraction.text import TfidfVectorizer"
      ],
      "execution_count": 2,
      "outputs": []
    },
    {
      "cell_type": "code",
      "metadata": {
        "colab": {
          "base_uri": "https://localhost:8080/"
        },
        "id": "iOntb5SHnJ6y",
        "outputId": "fd23beb8-ea31-4fa0-cde5-9ec4760723f9"
      },
      "source": [
        "#using the count vectorizer\n",
        "count = CountVectorizer()\n",
        "word_count=count.fit_transform(text)\n",
        "print(word_count)"
      ],
      "execution_count": 3,
      "outputs": [
        {
          "output_type": "stream",
          "name": "stdout",
          "text": [
            "  (0, 14)\t1\n",
            "  (0, 1)\t1\n",
            "  (0, 4)\t1\n",
            "  (0, 13)\t1\n",
            "  (0, 26)\t1\n",
            "  (1, 13)\t1\n",
            "  (1, 18)\t1\n",
            "  (1, 9)\t1\n",
            "  (1, 3)\t1\n",
            "  (2, 13)\t1\n",
            "  (2, 3)\t1\n",
            "  (2, 7)\t1\n",
            "  (3, 14)\t1\n",
            "  (3, 3)\t1\n",
            "  (3, 5)\t1\n",
            "  (3, 25)\t1\n",
            "  (4, 13)\t1\n",
            "  (4, 0)\t1\n",
            "  (4, 24)\t1\n",
            "  (4, 12)\t1\n",
            "  (4, 22)\t1\n",
            "  (5, 26)\t1\n",
            "  (5, 18)\t1\n",
            "  (5, 12)\t1\n",
            "  (5, 6)\t1\n",
            "  :\t:\n",
            "  (6, 14)\t1\n",
            "  (6, 27)\t1\n",
            "  (6, 16)\t1\n",
            "  (7, 13)\t1\n",
            "  (7, 7)\t1\n",
            "  (7, 11)\t1\n",
            "  (8, 13)\t1\n",
            "  (8, 26)\t1\n",
            "  (8, 18)\t1\n",
            "  (8, 11)\t1\n",
            "  (8, 28)\t1\n",
            "  (8, 2)\t1\n",
            "  (9, 13)\t1\n",
            "  (9, 7)\t1\n",
            "  (9, 21)\t1\n",
            "  (9, 10)\t1\n",
            "  (10, 14)\t1\n",
            "  (10, 13)\t1\n",
            "  (10, 17)\t1\n",
            "  (10, 20)\t1\n",
            "  (11, 13)\t1\n",
            "  (11, 7)\t1\n",
            "  (11, 17)\t2\n",
            "  (11, 15)\t1\n",
            "  (11, 19)\t1\n"
          ]
        }
      ]
    },
    {
      "cell_type": "code",
      "metadata": {
        "colab": {
          "base_uri": "https://localhost:8080/"
        },
        "id": "gQiDVhY_nKuL",
        "outputId": "fc5d80b4-10e9-46aa-9cec-1bf59d638b8a"
      },
      "source": [
        "word_count.shape"
      ],
      "execution_count": 4,
      "outputs": [
        {
          "output_type": "execute_result",
          "data": {
            "text/plain": [
              "(12, 29)"
            ]
          },
          "metadata": {},
          "execution_count": 4
        }
      ]
    },
    {
      "cell_type": "code",
      "metadata": {
        "colab": {
          "base_uri": "https://localhost:8080/"
        },
        "id": "X9a3cqYLnNR-",
        "outputId": "0dbb2f41-59c0-496c-8549-1bc496a6177c"
      },
      "source": [
        "print(word_count.toarray())"
      ],
      "execution_count": 5,
      "outputs": [
        {
          "output_type": "stream",
          "name": "stdout",
          "text": [
            "[[0 1 0 0 1 0 0 0 0 0 0 0 0 1 1 0 0 0 0 0 0 0 0 0 0 0 1 0 0]\n",
            " [0 0 0 1 0 0 0 0 0 1 0 0 0 1 0 0 0 0 1 0 0 0 0 0 0 0 0 0 0]\n",
            " [0 0 0 1 0 0 0 1 0 0 0 0 0 1 0 0 0 0 0 0 0 0 0 0 0 0 0 0 0]\n",
            " [0 0 0 1 0 1 0 0 0 0 0 0 0 0 1 0 0 0 0 0 0 0 0 0 0 1 0 0 0]\n",
            " [1 0 0 0 0 0 0 0 0 0 0 0 1 1 0 0 0 0 0 0 0 0 1 0 1 0 0 0 0]\n",
            " [0 0 0 0 0 0 1 0 1 0 0 0 1 0 0 0 0 0 1 0 0 0 0 1 0 0 1 0 0]\n",
            " [0 0 0 0 0 0 0 0 0 0 0 0 0 0 1 0 1 0 0 0 0 0 0 0 0 0 0 1 0]\n",
            " [0 0 0 0 0 0 0 1 0 0 0 1 0 1 0 0 0 0 0 0 0 0 0 0 0 0 0 0 0]\n",
            " [0 0 1 0 0 0 0 0 0 0 0 1 0 1 0 0 0 0 1 0 0 0 0 0 0 0 1 0 1]\n",
            " [0 0 0 0 0 0 0 1 0 0 1 0 0 1 0 0 0 0 0 0 0 1 0 0 0 0 0 0 0]\n",
            " [0 0 0 0 0 0 0 0 0 0 0 0 0 1 1 0 0 1 0 0 1 0 0 0 0 0 0 0 0]\n",
            " [0 0 0 0 0 0 0 1 0 0 0 0 0 1 0 1 0 2 0 1 0 0 0 0 0 0 0 0 0]]\n"
          ]
        }
      ]
    },
    {
      "cell_type": "markdown",
      "metadata": {
        "id": "vF5PRYHhnT4X"
      },
      "source": [
        "IDF transformer"
      ]
    },
    {
      "cell_type": "code",
      "metadata": {
        "id": "pM0zNCEGnYnB"
      },
      "source": [
        "tfidf_transformer=TfidfTransformer(smooth_idf=True,use_idf=True)\n",
        "tfidf_transformer.fit(word_count)\n",
        "df_idf = pd.DataFrame(tfidf_transformer.idf_, index=count.get_feature_names(),columns=[\"idf_weights\"])"
      ],
      "execution_count": 6,
      "outputs": []
    },
    {
      "cell_type": "code",
      "metadata": {
        "colab": {
          "base_uri": "https://localhost:8080/",
          "height": 942
        },
        "id": "SKnnwGj3ng2D",
        "outputId": "808b34a2-2475-415c-84c9-fe879086b025"
      },
      "source": [
        "#inverse document frequency\n",
        "df_idf.sort_values(by=['idf_weights'])"
      ],
      "execution_count": 7,
      "outputs": [
        {
          "output_type": "execute_result",
          "data": {
            "text/html": [
              "<div>\n",
              "<style scoped>\n",
              "    .dataframe tbody tr th:only-of-type {\n",
              "        vertical-align: middle;\n",
              "    }\n",
              "\n",
              "    .dataframe tbody tr th {\n",
              "        vertical-align: top;\n",
              "    }\n",
              "\n",
              "    .dataframe thead th {\n",
              "        text-align: right;\n",
              "    }\n",
              "</style>\n",
              "<table border=\"1\" class=\"dataframe\">\n",
              "  <thead>\n",
              "    <tr style=\"text-align: right;\">\n",
              "      <th></th>\n",
              "      <th>idf_weights</th>\n",
              "    </tr>\n",
              "  </thead>\n",
              "  <tbody>\n",
              "    <tr>\n",
              "      <th>india</th>\n",
              "      <td>1.262364</td>\n",
              "    </tr>\n",
              "    <tr>\n",
              "      <th>kolkata</th>\n",
              "      <td>1.955511</td>\n",
              "    </tr>\n",
              "    <tr>\n",
              "      <th>delhi</th>\n",
              "      <td>1.955511</td>\n",
              "    </tr>\n",
              "    <tr>\n",
              "      <th>trade</th>\n",
              "      <td>2.178655</td>\n",
              "    </tr>\n",
              "    <tr>\n",
              "      <th>capital</th>\n",
              "      <td>2.178655</td>\n",
              "    </tr>\n",
              "    <tr>\n",
              "      <th>mumbai</th>\n",
              "      <td>2.178655</td>\n",
              "    </tr>\n",
              "    <tr>\n",
              "      <th>gate</th>\n",
              "      <td>2.466337</td>\n",
              "    </tr>\n",
              "    <tr>\n",
              "      <th>hub</th>\n",
              "      <td>2.466337</td>\n",
              "    </tr>\n",
              "    <tr>\n",
              "      <th>metro</th>\n",
              "      <td>2.466337</td>\n",
              "    </tr>\n",
              "    <tr>\n",
              "      <th>times</th>\n",
              "      <td>2.871802</td>\n",
              "    </tr>\n",
              "    <tr>\n",
              "      <th>tech</th>\n",
              "      <td>2.871802</td>\n",
              "    </tr>\n",
              "    <tr>\n",
              "      <th>stock</th>\n",
              "      <td>2.871802</td>\n",
              "    </tr>\n",
              "    <tr>\n",
              "      <th>software</th>\n",
              "      <td>2.871802</td>\n",
              "    </tr>\n",
              "    <tr>\n",
              "      <th>red</th>\n",
              "      <td>2.871802</td>\n",
              "    </tr>\n",
              "    <tr>\n",
              "      <th>oldest</th>\n",
              "      <td>2.871802</td>\n",
              "    </tr>\n",
              "    <tr>\n",
              "      <th>network</th>\n",
              "      <td>2.871802</td>\n",
              "    </tr>\n",
              "    <tr>\n",
              "      <th>bangalore</th>\n",
              "      <td>2.871802</td>\n",
              "    </tr>\n",
              "    <tr>\n",
              "      <th>largest</th>\n",
              "      <td>2.871802</td>\n",
              "    </tr>\n",
              "    <tr>\n",
              "      <th>victoria</th>\n",
              "      <td>2.871802</td>\n",
              "    </tr>\n",
              "    <tr>\n",
              "      <th>fort</th>\n",
              "      <td>2.871802</td>\n",
              "    </tr>\n",
              "    <tr>\n",
              "      <th>financial</th>\n",
              "      <td>2.871802</td>\n",
              "    </tr>\n",
              "    <tr>\n",
              "      <th>exchange</th>\n",
              "      <td>2.871802</td>\n",
              "    </tr>\n",
              "    <tr>\n",
              "      <th>commerce</th>\n",
              "      <td>2.871802</td>\n",
              "    </tr>\n",
              "    <tr>\n",
              "      <th>colonial</th>\n",
              "      <td>2.871802</td>\n",
              "    </tr>\n",
              "    <tr>\n",
              "      <th>city</th>\n",
              "      <td>2.871802</td>\n",
              "    </tr>\n",
              "    <tr>\n",
              "      <th>business</th>\n",
              "      <td>2.871802</td>\n",
              "    </tr>\n",
              "    <tr>\n",
              "      <th>big</th>\n",
              "      <td>2.871802</td>\n",
              "    </tr>\n",
              "    <tr>\n",
              "      <th>memorial</th>\n",
              "      <td>2.871802</td>\n",
              "    </tr>\n",
              "    <tr>\n",
              "      <th>way</th>\n",
              "      <td>2.871802</td>\n",
              "    </tr>\n",
              "  </tbody>\n",
              "</table>\n",
              "</div>"
            ],
            "text/plain": [
              "           idf_weights\n",
              "india         1.262364\n",
              "kolkata       1.955511\n",
              "delhi         1.955511\n",
              "trade         2.178655\n",
              "capital       2.178655\n",
              "mumbai        2.178655\n",
              "gate          2.466337\n",
              "hub           2.466337\n",
              "metro         2.466337\n",
              "times         2.871802\n",
              "tech          2.871802\n",
              "stock         2.871802\n",
              "software      2.871802\n",
              "red           2.871802\n",
              "oldest        2.871802\n",
              "network       2.871802\n",
              "bangalore     2.871802\n",
              "largest       2.871802\n",
              "victoria      2.871802\n",
              "fort          2.871802\n",
              "financial     2.871802\n",
              "exchange      2.871802\n",
              "commerce      2.871802\n",
              "colonial      2.871802\n",
              "city          2.871802\n",
              "business      2.871802\n",
              "big           2.871802\n",
              "memorial      2.871802\n",
              "way           2.871802"
            ]
          },
          "metadata": {},
          "execution_count": 7
        }
      ]
    },
    {
      "cell_type": "markdown",
      "metadata": {
        "id": "P5KjFy4Knm-H"
      },
      "source": [
        "Proceeding to the TF-IDF transformation"
      ]
    },
    {
      "cell_type": "code",
      "metadata": {
        "id": "KqQNlA6AniPe"
      },
      "source": [
        "#tfidf\n",
        "tf_idf_vector=tfidf_transformer.transform(word_count)\n",
        "feature_names = count.get_feature_names()"
      ],
      "execution_count": 8,
      "outputs": []
    },
    {
      "cell_type": "code",
      "metadata": {
        "id": "XYbiQT4wnt0U"
      },
      "source": [
        "first_document_vector=tf_idf_vector[1]\n",
        "df_tfifd= pd.DataFrame(first_document_vector.T.todense(), index=feature_names, columns=[\"tfidf\"])"
      ],
      "execution_count": 9,
      "outputs": []
    },
    {
      "cell_type": "code",
      "metadata": {
        "colab": {
          "base_uri": "https://localhost:8080/",
          "height": 942
        },
        "id": "RkwIkk3ynwwC",
        "outputId": "ba743d37-36cf-4a23-c251-e474d146d0aa"
      },
      "source": [
        "df_tfifd.sort_values(by=[\"tfidf\"],ascending=False)"
      ],
      "execution_count": 10,
      "outputs": [
        {
          "output_type": "execute_result",
          "data": {
            "text/html": [
              "<div>\n",
              "<style scoped>\n",
              "    .dataframe tbody tr th:only-of-type {\n",
              "        vertical-align: middle;\n",
              "    }\n",
              "\n",
              "    .dataframe tbody tr th {\n",
              "        vertical-align: top;\n",
              "    }\n",
              "\n",
              "    .dataframe thead th {\n",
              "        text-align: right;\n",
              "    }\n",
              "</style>\n",
              "<table border=\"1\" class=\"dataframe\">\n",
              "  <thead>\n",
              "    <tr style=\"text-align: right;\">\n",
              "      <th></th>\n",
              "      <th>tfidf</th>\n",
              "    </tr>\n",
              "  </thead>\n",
              "  <tbody>\n",
              "    <tr>\n",
              "      <th>financial</th>\n",
              "      <td>0.653123</td>\n",
              "    </tr>\n",
              "    <tr>\n",
              "      <th>capital</th>\n",
              "      <td>0.495483</td>\n",
              "    </tr>\n",
              "    <tr>\n",
              "      <th>mumbai</th>\n",
              "      <td>0.495483</td>\n",
              "    </tr>\n",
              "    <tr>\n",
              "      <th>india</th>\n",
              "      <td>0.287095</td>\n",
              "    </tr>\n",
              "    <tr>\n",
              "      <th>bangalore</th>\n",
              "      <td>0.000000</td>\n",
              "    </tr>\n",
              "    <tr>\n",
              "      <th>memorial</th>\n",
              "      <td>0.000000</td>\n",
              "    </tr>\n",
              "    <tr>\n",
              "      <th>victoria</th>\n",
              "      <td>0.000000</td>\n",
              "    </tr>\n",
              "    <tr>\n",
              "      <th>trade</th>\n",
              "      <td>0.000000</td>\n",
              "    </tr>\n",
              "    <tr>\n",
              "      <th>times</th>\n",
              "      <td>0.000000</td>\n",
              "    </tr>\n",
              "    <tr>\n",
              "      <th>tech</th>\n",
              "      <td>0.000000</td>\n",
              "    </tr>\n",
              "    <tr>\n",
              "      <th>stock</th>\n",
              "      <td>0.000000</td>\n",
              "    </tr>\n",
              "    <tr>\n",
              "      <th>software</th>\n",
              "      <td>0.000000</td>\n",
              "    </tr>\n",
              "    <tr>\n",
              "      <th>red</th>\n",
              "      <td>0.000000</td>\n",
              "    </tr>\n",
              "    <tr>\n",
              "      <th>oldest</th>\n",
              "      <td>0.000000</td>\n",
              "    </tr>\n",
              "    <tr>\n",
              "      <th>network</th>\n",
              "      <td>0.000000</td>\n",
              "    </tr>\n",
              "    <tr>\n",
              "      <th>metro</th>\n",
              "      <td>0.000000</td>\n",
              "    </tr>\n",
              "    <tr>\n",
              "      <th>kolkata</th>\n",
              "      <td>0.000000</td>\n",
              "    </tr>\n",
              "    <tr>\n",
              "      <th>largest</th>\n",
              "      <td>0.000000</td>\n",
              "    </tr>\n",
              "    <tr>\n",
              "      <th>big</th>\n",
              "      <td>0.000000</td>\n",
              "    </tr>\n",
              "    <tr>\n",
              "      <th>hub</th>\n",
              "      <td>0.000000</td>\n",
              "    </tr>\n",
              "    <tr>\n",
              "      <th>gate</th>\n",
              "      <td>0.000000</td>\n",
              "    </tr>\n",
              "    <tr>\n",
              "      <th>fort</th>\n",
              "      <td>0.000000</td>\n",
              "    </tr>\n",
              "    <tr>\n",
              "      <th>exchange</th>\n",
              "      <td>0.000000</td>\n",
              "    </tr>\n",
              "    <tr>\n",
              "      <th>delhi</th>\n",
              "      <td>0.000000</td>\n",
              "    </tr>\n",
              "    <tr>\n",
              "      <th>commerce</th>\n",
              "      <td>0.000000</td>\n",
              "    </tr>\n",
              "    <tr>\n",
              "      <th>colonial</th>\n",
              "      <td>0.000000</td>\n",
              "    </tr>\n",
              "    <tr>\n",
              "      <th>city</th>\n",
              "      <td>0.000000</td>\n",
              "    </tr>\n",
              "    <tr>\n",
              "      <th>business</th>\n",
              "      <td>0.000000</td>\n",
              "    </tr>\n",
              "    <tr>\n",
              "      <th>way</th>\n",
              "      <td>0.000000</td>\n",
              "    </tr>\n",
              "  </tbody>\n",
              "</table>\n",
              "</div>"
            ],
            "text/plain": [
              "              tfidf\n",
              "financial  0.653123\n",
              "capital    0.495483\n",
              "mumbai     0.495483\n",
              "india      0.287095\n",
              "bangalore  0.000000\n",
              "memorial   0.000000\n",
              "victoria   0.000000\n",
              "trade      0.000000\n",
              "times      0.000000\n",
              "tech       0.000000\n",
              "stock      0.000000\n",
              "software   0.000000\n",
              "red        0.000000\n",
              "oldest     0.000000\n",
              "network    0.000000\n",
              "metro      0.000000\n",
              "kolkata    0.000000\n",
              "largest    0.000000\n",
              "big        0.000000\n",
              "hub        0.000000\n",
              "gate       0.000000\n",
              "fort       0.000000\n",
              "exchange   0.000000\n",
              "delhi      0.000000\n",
              "commerce   0.000000\n",
              "colonial   0.000000\n",
              "city       0.000000\n",
              "business   0.000000\n",
              "way        0.000000"
            ]
          },
          "metadata": {},
          "execution_count": 10
        }
      ]
    },
    {
      "cell_type": "markdown",
      "metadata": {
        "id": "SqTxA-qRoDH1"
      },
      "source": [
        "Creating a Movie Reviews Classifier using TF-IDF"
      ]
    },
    {
      "cell_type": "code",
      "metadata": {
        "id": "YyPWLJDKn3UX"
      },
      "source": [
        "#importing libraries\n",
        "import numpy as np \n",
        "import pandas as pd\n",
        "from sklearn.feature_extraction.text import TfidfVectorizer\n",
        "from sklearn.naive_bayes import MultinomialNB\n",
        "from sklearn import metrics\n",
        "import nltk\n",
        "import re\n",
        "import string\n",
        "from nltk.stem import WordNetLemmatizer"
      ],
      "execution_count": 11,
      "outputs": []
    },
    {
      "cell_type": "code",
      "metadata": {
        "id": "fbuLwvo7p3go"
      },
      "source": [
        "#reading the data\n",
        "test_csv = pd.read_csv('/kaggle/input/imdb-movie-reviews-dataset/test_data (1).csv') \n",
        "train_csv = pd.read_csv('/kaggle/input/imdb-movie-reviews-dataset/train_data (1).csv')"
      ],
      "execution_count": null,
      "outputs": []
    },
    {
      "cell_type": "code",
      "metadata": {
        "id": "uinHf7v9p61f"
      },
      "source": [
        "#stopword removal and lemmatization\n",
        "stopwords = nltk.corpus.stopwords.words('english')\n",
        "lemmatizer = WordNetLemmatizer()"
      ],
      "execution_count": null,
      "outputs": []
    },
    {
      "cell_type": "code",
      "metadata": {
        "id": "FAGhVEJkp9Kw"
      },
      "source": [
        "nltk.download('stopwords')"
      ],
      "execution_count": null,
      "outputs": []
    },
    {
      "cell_type": "code",
      "metadata": {
        "id": "DBLUrnDoqAiF"
      },
      "source": [
        "train_csv.head()"
      ],
      "execution_count": null,
      "outputs": []
    },
    {
      "cell_type": "code",
      "metadata": {
        "id": "EtOiJ41_qEkM"
      },
      "source": [
        "train_X_non = train_csv['0']   # '0' refers to the review text\n",
        "train_y = train_csv['1']   # '1' corresponds to Label (1 - positive and 0 - negative)\n",
        "test_X_non = test_csv['0']\n",
        "test_y = test_csv['1']\n",
        "train_X=[]\n",
        "test_X=[]"
      ],
      "execution_count": null,
      "outputs": []
    },
    {
      "cell_type": "code",
      "metadata": {
        "id": "GRolehHzqIzu"
      },
      "source": [
        "#text pre processing\n",
        "for i in range(0, len(train_X_non)):\n",
        "    review = re.sub('[^a-zA-Z]', ' ', train_X_non[i])\n",
        "    review = review.lower()\n",
        "    review = review.split()\n",
        "    review = [lemmatizer.lemmatize(word) for word in review if not word in set(stopwords)]\n",
        "    review = ' '.join(review)\n",
        "    train_X.append(review)"
      ],
      "execution_count": null,
      "outputs": []
    },
    {
      "cell_type": "code",
      "metadata": {
        "id": "dz4mFJ4HqL0Z"
      },
      "source": [
        "#text pre processing\n",
        "for i in range(0, len(test_X_non)):\n",
        "    review = re.sub('[^a-zA-Z]', ' ', test_X_non[i])\n",
        "    review = review.lower()\n",
        "    review = review.split()\n",
        "    review = [lemmatizer.lemmatize(word) for word in review if not word in set(stopwords)]\n",
        "    review = ' '.join(review)\n",
        "    test_X.append(review)"
      ],
      "execution_count": null,
      "outputs": []
    },
    {
      "cell_type": "code",
      "metadata": {
        "id": "7EruDTfjqOOn"
      },
      "source": [
        "train_X[10]"
      ],
      "execution_count": null,
      "outputs": []
    },
    {
      "cell_type": "code",
      "metadata": {
        "id": "J9X3WNXoqVh3"
      },
      "source": [
        "#tf idf\n",
        "tf_idf = TfidfVectorizer()\n",
        "#applying tf idf to training data\n",
        "X_train_tf = tf_idf.fit_transform(train_X)\n",
        "#applying tf idf to training data\n",
        "X_train_tf = tf_idf.transform(train_X)"
      ],
      "execution_count": null,
      "outputs": []
    },
    {
      "cell_type": "code",
      "metadata": {
        "id": "akuC-cBcqYNR"
      },
      "source": [
        "print(\"n_samples: %d, n_features: %d\" % X_train_tf.shape)"
      ],
      "execution_count": null,
      "outputs": []
    },
    {
      "cell_type": "code",
      "metadata": {
        "id": "OCg_xmyYqamb"
      },
      "source": [
        "#transforming test data into tf-idf matrix\n",
        "X_test_tf = tf_idf.transform(test_X)"
      ],
      "execution_count": null,
      "outputs": []
    },
    {
      "cell_type": "code",
      "metadata": {
        "id": "LlkRFgOdqc1m"
      },
      "source": [
        "print(\"n_samples: %d, n_features: %d\" % X_test_tf.shape)"
      ],
      "execution_count": null,
      "outputs": []
    },
    {
      "cell_type": "code",
      "metadata": {
        "id": "8ESgp8hmrDCK"
      },
      "source": [
        "#naive bayes classifier\n",
        "naive_bayes_classifier = MultinomialNB()\n",
        "naive_bayes_classifier.fit(X_train_tf, train_y)\n",
        "#predicted y\n",
        "y_pred = naive_bayes_classifier.predict(X_test_tf)\n",
        "print(metrics.classification_report(test_y, y_pred, target_names=['Positive', 'Negative']))"
      ],
      "execution_count": null,
      "outputs": []
    },
    {
      "cell_type": "code",
      "metadata": {
        "id": "c0twH24MrGjb"
      },
      "source": [
        "print(\"Confusion matrix:\")\n",
        "print(metrics.confusion_matrix(test_y, y_pred))"
      ],
      "execution_count": null,
      "outputs": []
    },
    {
      "cell_type": "code",
      "metadata": {
        "id": "Zj-oSizHrJ0O"
      },
      "source": [
        "#doing a test prediction\n",
        "test = [\"This is unlike any kind of adventure movie my eyes have ever seen in such a long time, the characters, the musical score for every scene, the story, the beauty of the landscapes of Pandora, the rich variety and uniqueness of the flora and fauna of Pandora, the ways and cultures and language of the natives of Pandora, everything about this movie I am beyond impressed and truly captivated by. Sam Worthington is by far my favorite actor in this movie along with his character Jake Sulley, just as he was a very inspiring actor in The Shack Sam Worthington once again makes an unbelievable mark in one of the greatest and most captivating movies you'll ever see. \"]"
      ],
      "execution_count": null,
      "outputs": []
    },
    {
      "cell_type": "code",
      "metadata": {
        "id": "UL5MPMc8rReD"
      },
      "source": [
        "review = re.sub('[^a-zA-Z]', ' ', test[0])\n",
        "review = review.lower()\n",
        "review = review.split()\n",
        "review = [lemmatizer.lemmatize(word) for word in review if not word in set(stopwords)]\n",
        "test_processed =[ ' '.join(review)]"
      ],
      "execution_count": null,
      "outputs": []
    },
    {
      "cell_type": "code",
      "metadata": {
        "id": "HTr0BBR-rXmJ"
      },
      "source": [
        "test_processed"
      ],
      "execution_count": null,
      "outputs": []
    },
    {
      "cell_type": "code",
      "metadata": {
        "id": "WWcYKkFMrZ46"
      },
      "source": [
        "test_input = tf_idf.transform(test_processed)\n",
        "test_input.shape"
      ],
      "execution_count": null,
      "outputs": []
    },
    {
      "cell_type": "code",
      "metadata": {
        "id": "6yVtRvT3rccd"
      },
      "source": [
        "#0= bad review\n",
        "#1= good review\n",
        "res=naive_bayes_classifier.predict(test_input)[0]\n",
        "if res==1:\n",
        "    print(\"Good Review\")\n",
        "elif res==0:\n",
        "    print(\"Bad Review\")"
      ],
      "execution_count": null,
      "outputs": []
    }
  ]
}